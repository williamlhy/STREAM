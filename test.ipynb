{
 "cells": [
  {
   "cell_type": "code",
   "execution_count": 7,
   "metadata": {},
   "outputs": [],
   "source": [
    "from stream_topic.experimental import generate_story, topic_summaries, movie_poster"
   ]
  },
  {
   "cell_type": "code",
   "execution_count": 9,
   "metadata": {},
   "outputs": [
    {
     "name": "stderr",
     "output_type": "stream",
     "text": [
      "\u001b[32m2024-08-16 18:41:41.046\u001b[0m | \u001b[1mINFO    \u001b[0m | \u001b[36mstream_topic.utils.dataset\u001b[0m:\u001b[36mfetch_dataset\u001b[0m:\u001b[36m118\u001b[0m - \u001b[1mFetching dataset: BBC_News\u001b[0m\n",
      "\u001b[32m2024-08-16 18:41:41.500\u001b[0m | \u001b[1mINFO    \u001b[0m | \u001b[36mstream_topic.utils.data_downloader\u001b[0m:\u001b[36mload_custom_dataset_from_url\u001b[0m:\u001b[36m334\u001b[0m - \u001b[1mDownloading dataset from github\u001b[0m\n",
      "\u001b[32m2024-08-16 18:41:41.849\u001b[0m | \u001b[1mINFO    \u001b[0m | \u001b[36mstream_topic.utils.data_downloader\u001b[0m:\u001b[36mload_custom_dataset_from_url\u001b[0m:\u001b[36m336\u001b[0m - \u001b[1mDataset downloaded successfully at ~/stream_topic_data/\u001b[0m\n",
      "\u001b[32m2024-08-16 18:41:42.279\u001b[0m | \u001b[1mINFO    \u001b[0m | \u001b[36mstream_topic.utils.data_downloader\u001b[0m:\u001b[36mload_custom_dataset_from_url\u001b[0m:\u001b[36m363\u001b[0m - \u001b[1mDownloading dataset info from github\u001b[0m\n",
      "\u001b[32m2024-08-16 18:41:42.477\u001b[0m | \u001b[1mINFO    \u001b[0m | \u001b[36mstream_topic.utils.data_downloader\u001b[0m:\u001b[36mload_custom_dataset_from_url\u001b[0m:\u001b[36m365\u001b[0m - \u001b[1mDataset info downloaded successfully at ~/stream_topic_data/\u001b[0m\n",
      "Preprocessing documents: 100%|██████████| 2225/2225 [00:22<00:00, 97.57it/s] \n",
      "\u001b[32m2024-08-16 18:42:05.384\u001b[0m | \u001b[1mINFO    \u001b[0m | \u001b[36mstream_topic.models.KmeansTM\u001b[0m:\u001b[36mfit\u001b[0m:\u001b[36m206\u001b[0m - \u001b[1m--- Training KmeansTM topic model ---\u001b[0m\n",
      "\u001b[32m2024-08-16 18:42:05.769\u001b[0m | \u001b[1mINFO    \u001b[0m | \u001b[36mstream_topic.models.abstract_helper_models.base\u001b[0m:\u001b[36mprepare_embeddings\u001b[0m:\u001b[36m215\u001b[0m - \u001b[1m--- Loading precomputed paraphrase-MiniLM-L3-v2 embeddings ---\u001b[0m\n",
      "\u001b[32m2024-08-16 18:42:05.879\u001b[0m | \u001b[1mINFO    \u001b[0m | \u001b[36mstream_topic.utils.data_downloader\u001b[0m:\u001b[36mload_custom_dataset_from_url\u001b[0m:\u001b[36m308\u001b[0m - \u001b[1mDownloading embeddings from github\u001b[0m\n",
      "\u001b[32m2024-08-16 18:42:06.259\u001b[0m | \u001b[1mINFO    \u001b[0m | \u001b[36mstream_topic.utils.data_downloader\u001b[0m:\u001b[36mload_custom_dataset_from_url\u001b[0m:\u001b[36m310\u001b[0m - \u001b[1mEmbeddings  downloaded successfully at ~/stream_topic_data/\u001b[0m\n",
      "\u001b[32m2024-08-16 18:42:06.269\u001b[0m | \u001b[1mINFO    \u001b[0m | \u001b[36mstream_topic.models.abstract_helper_models.base\u001b[0m:\u001b[36mdim_reduction\u001b[0m:\u001b[36m196\u001b[0m - \u001b[1m--- Reducing dimensions ---\u001b[0m\n",
      "\u001b[32m2024-08-16 18:42:14.510\u001b[0m | \u001b[1mINFO    \u001b[0m | \u001b[36mstream_topic.models.KmeansTM\u001b[0m:\u001b[36m_clustering\u001b[0m:\u001b[36m155\u001b[0m - \u001b[1m--- Creating document cluster ---\u001b[0m\n",
      "\u001b[32m2024-08-16 18:42:15.129\u001b[0m | \u001b[1mINFO    \u001b[0m | \u001b[36mstream_topic.models.KmeansTM\u001b[0m:\u001b[36mfit\u001b[0m:\u001b[36m240\u001b[0m - \u001b[1m--- Training completed successfully. ---\u001b[0m\n"
     ]
    }
   ],
   "source": [
    "\n",
    "from stream_topic.models import KmeansTM\n",
    "from stream_topic.utils import TMDataset\n",
    "\n",
    "dataset = TMDataset()\n",
    "dataset.fetch_dataset(\"BBC_News\")\n",
    "dataset.preprocess(model_type=\"KmeansTM\")\n",
    "\n",
    "model = KmeansTM()\n",
    "model.fit(dataset, n_topics=5)\n",
    "\n",
    "topics = model.get_topics()\n",
    "\n"
   ]
  },
  {
   "cell_type": "code",
   "execution_count": 11,
   "metadata": {},
   "outputs": [
    {
     "name": "stderr",
     "output_type": "stream",
     "text": [
      "\u001b[32m2024-08-16 18:43:03.806\u001b[0m | \u001b[1mINFO    \u001b[0m | \u001b[36mstream_topic.experimental.topic_summary\u001b[0m:\u001b[36mtopic_summaries\u001b[0m:\u001b[36m66\u001b[0m - \u001b[1m--- Generating summary for topic 0 with model: gpt-3.5-turbo-16k ---\u001b[0m\n",
      "\u001b[32m2024-08-16 18:43:05.758\u001b[0m | \u001b[1mINFO    \u001b[0m | \u001b[36mstream_topic.experimental.topic_summary\u001b[0m:\u001b[36mtopic_summaries\u001b[0m:\u001b[36m66\u001b[0m - \u001b[1m--- Generating summary for topic 1 with model: gpt-3.5-turbo-16k ---\u001b[0m\n",
      "\u001b[32m2024-08-16 18:43:06.719\u001b[0m | \u001b[1mINFO    \u001b[0m | \u001b[36mstream_topic.experimental.topic_summary\u001b[0m:\u001b[36mtopic_summaries\u001b[0m:\u001b[36m66\u001b[0m - \u001b[1m--- Generating summary for topic 2 with model: gpt-3.5-turbo-16k ---\u001b[0m\n",
      "\u001b[32m2024-08-16 18:43:07.729\u001b[0m | \u001b[1mINFO    \u001b[0m | \u001b[36mstream_topic.experimental.topic_summary\u001b[0m:\u001b[36mtopic_summaries\u001b[0m:\u001b[36m66\u001b[0m - \u001b[1m--- Generating summary for topic 3 with model: gpt-3.5-turbo-16k ---\u001b[0m\n",
      "\u001b[32m2024-08-16 18:43:08.699\u001b[0m | \u001b[1mINFO    \u001b[0m | \u001b[36mstream_topic.experimental.topic_summary\u001b[0m:\u001b[36mtopic_summaries\u001b[0m:\u001b[36m66\u001b[0m - \u001b[1m--- Generating summary for topic 4 with model: gpt-3.5-turbo-16k ---\u001b[0m\n"
     ]
    }
   ],
   "source": [
    "summaries = topic_summaries(topics, openai_key)"
   ]
  },
  {
   "cell_type": "code",
   "execution_count": 13,
   "metadata": {},
   "outputs": [
    {
     "name": "stdout",
     "output_type": "stream",
     "text": [
      "The Oscar award for Best Actor and Best Actress recognizes the exceptional performances of film stars who have captivated audiences and brought their characters to life, while the Grammy award honors the achievements of talented bands and solo artists for their outstanding albums and songs. \n",
      "\n",
      "The growth of China's economy and its impact on the global market, including oil prices, share rates, and economic growth, is closely monitored by banks and investors. \n",
      "\n",
      "In a thrilling match, England's champion team, led by their determined coach, overcame a crucial injury to secure victory in the Cup against Ireland, capping off a triumphant season. \n",
      "\n",
      "The topic explores the interplay between technology and its users in the digital realm, encompassing mobile phones, computers, software, websites, and networks on the internet. \n",
      "\n",
      "A summary of the topic could be: The topic revolves around the British Labour Party, the Tory party, former Prime Ministers Tony Blair and Gordon Brown, as well as their respective political strategies and the influence of Lord Howard. \n",
      "\n"
     ]
    }
   ],
   "source": [
    "for summary in summaries:\n",
    "    print(f\"{summary} \\n\")"
   ]
  },
  {
   "cell_type": "code",
   "execution_count": 14,
   "metadata": {},
   "outputs": [
    {
     "name": "stderr",
     "output_type": "stream",
     "text": [
      "\u001b[32m2024-08-16 18:43:37.999\u001b[0m | \u001b[1mINFO    \u001b[0m | \u001b[36mstream_topic.experimental.topic_story\u001b[0m:\u001b[36mgenerate_story\u001b[0m:\u001b[36m65\u001b[0m - \u001b[1m--- Generating story with model: gpt-3.5-turbo-16k ---\u001b[0m\n"
     ]
    }
   ],
   "source": [
    "story = generate_story(topics[1], openai_key)"
   ]
  },
  {
   "cell_type": "code",
   "execution_count": 15,
   "metadata": {},
   "outputs": [
    {
     "name": "stdout",
     "output_type": "stream",
     "text": [
      "Once upon a time in a bustling city, nestled near the edge of a vast oilfield, there stood a small bank. This bank had witnessed the fluctuating tides of the economy, its walls echoing with the whispers of unprecedented growth and occasional turmoil.\n",
      "\n",
      "Deep within the bank, a young economist named Lily toiled tirelessly to decipher the complex patterns of the oil market. With furrowed brows and a sharp mind, she monitored the ever-shifting prices, shares, and economic indicators that governed the world's thirst for oil.\n",
      "\n",
      "One fateful day, news arrived that China, a major player in the global economy, had chosen to decrease its oil imports. The announcement sent shockwaves through the market, causing the price of oil to tumble. Panic and uncertainty gripped the financial world, as investors closely scrutinized the situation.\n",
      "\n",
      "Lily's eyes sparkled with determination as she analyzed the economic data, seeking a solution amidst the chaos. She realized that while the news from China had shaken the market, it also presented an opportunity for growth.\n",
      "\n",
      "With unwavering conviction, Lily devised a plan to leverage this situation to the bank's advantage. She recommended purchasing oil shares at the low market rate, predicting that the economy would eventually recover. The bank\n"
     ]
    }
   ],
   "source": [
    "print(story)"
   ]
  },
  {
   "cell_type": "code",
   "execution_count": 16,
   "metadata": {},
   "outputs": [
    {
     "name": "stderr",
     "output_type": "stream",
     "text": [
      "\u001b[32m2024-08-16 18:43:47.972\u001b[0m | \u001b[1mINFO    \u001b[0m | \u001b[36mstream_topic.experimental.topic_poster\u001b[0m:\u001b[36mmovie_poster\u001b[0m:\u001b[36m69\u001b[0m - \u001b[1m--- Generating image with model: dall-e-3 ---\u001b[0m\n"
     ]
    },
    {
     "data": {
      "text/html": [
       "<img src=\"https://oaidalleapiprodscus.blob.core.windows.net/private/org-h8CNn2OBGWo8sW7M3s6tebH3/user-TZ9xZ0v6G5gJxpBs9bt5MMi1/img-bnwlbzm3j03NYHdzSzsr8KF2.png?st=2024-08-16T15%3A44%3A01Z&se=2024-08-16T17%3A44%3A01Z&sp=r&sv=2024-08-04&sr=b&rscd=inline&rsct=image/png&skoid=d505667d-d6c1-4a0a-bac7-5c84a87759f8&sktid=a48cca56-e6da-484e-a814-9c849652bcb3&skt=2024-08-15T22%3A19%3A02Z&ske=2024-08-16T22%3A19%3A02Z&sks=b&skv=2024-08-04&sig=i0ZOiG%2BKlzGmxj54q/GATHKWrDS4ht4d2KBgYlUmd5U%3D\"/>"
      ],
      "text/plain": [
       "<IPython.core.display.Image object>"
      ]
     },
     "metadata": {},
     "output_type": "display_data"
    }
   ],
   "source": [
    "poster = movie_poster(topics[2], openai_key, return_style=\"plot\")"
   ]
  }
 ],
 "metadata": {
  "kernelspec": {
   "display_name": "stream_topic_venv",
   "language": "python",
   "name": "python3"
  },
  "language_info": {
   "codemirror_mode": {
    "name": "ipython",
    "version": 3
   },
   "file_extension": ".py",
   "mimetype": "text/x-python",
   "name": "python",
   "nbconvert_exporter": "python",
   "pygments_lexer": "ipython3",
   "version": "3.10.14"
  }
 },
 "nbformat": 4,
 "nbformat_minor": 2
}
